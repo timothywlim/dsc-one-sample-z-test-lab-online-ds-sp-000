{
 "cells": [
  {
   "cell_type": "markdown",
   "metadata": {},
   "source": [
    "# One-Sample z-test - Lab\n",
    "\n",
    "## Introduction\n",
    "In this lab, you'll perform a few quick tests to help you better understand how hypothesis testing works.\n",
    "\n",
    "## Objectives\n",
    "You will be able to:\n",
    "\n",
    "* Explain use cases for a 1-sample z-test\n",
    "* Set up null and alternative hypotheses\n",
    "* Use the z-table and scipy methods to acquire the p value for a given z-score\n",
    "* Calculate and interpret p-value for significance of results\n",
    "\n",
    "## Exercise 1\n",
    "A fast-food chain claims that the mean time to order food at their restaurants is 60 seconds, with a standard deviation of 30 seconds. You decide to put this claim to the test and go to one of the restaurants to observe actual waiting times. You take a sample of 36 customers and find that the mean order time was 75 seconds. Does this finding provide enough evidence to contradict the fast food chain's claim of fast service?\n",
    "\n",
    "Follow the 5 steps shown in previous lesson and use $\\alpha$ = 0.05. "
   ]
  },
  {
   "cell_type": "code",
   "execution_count": 5,
   "metadata": {
    "ExecuteTime": {
     "end_time": "2021-02-12T17:01:51.668773Z",
     "start_time": "2021-02-12T17:01:51.665459Z"
    }
   },
   "outputs": [],
   "source": [
    "# State your null and alternative hypotheses\n",
    "\n",
    "# Ha: the time to order food is bigger than 60 secnds\n",
    "# Ho: the time to order food is less than or equal to 60 sec"
   ]
  },
  {
   "cell_type": "code",
   "execution_count": 6,
   "metadata": {
    "ExecuteTime": {
     "end_time": "2021-02-12T17:01:51.916233Z",
     "start_time": "2021-02-12T17:01:51.899406Z"
    }
   },
   "outputs": [
    {
     "data": {
      "text/plain": [
       "(0.0013498980316301035, 3.0)"
      ]
     },
     "execution_count": 6,
     "metadata": {},
     "output_type": "execute_result"
    }
   ],
   "source": [
    "# Your solution here\n",
    "import scipy.stats as stats\n",
    "import math\n",
    "\n",
    "mu = 60\n",
    "sigma = 30\n",
    "n = 36\n",
    "x_bar = 75\n",
    "z = (x_bar - mu)/(sigma/math.sqrt(n))\n",
    "p = 1 - stats.norm.cdf(z)\n",
    "\n",
    "p, z\n",
    "\n",
    "\n",
    "# (p = 0.0013498980316301035, z = 3.0)"
   ]
  },
  {
   "cell_type": "code",
   "execution_count": 7,
   "metadata": {
    "ExecuteTime": {
     "end_time": "2021-02-12T17:01:52.119126Z",
     "start_time": "2021-02-12T17:01:52.116152Z"
    }
   },
   "outputs": [],
   "source": [
    "# Interpret the results in terms of the p-value\n",
    "# with p-value less than 0.05, we can reject the null hypothesis and say that the time to order food\n",
    "# is significantly higher than what the fast food chain claims. "
   ]
  },
  {
   "cell_type": "markdown",
   "metadata": {},
   "source": [
    "## Exercise 2\n",
    "\n",
    "25 students complete a preparation program for taking the SAT test.  Here are the SAT scores from the 25 students who completed the program:\n",
    "\n",
    "``\n",
    "434 694 457 534 720 400 484 478 610 641 425 636 454 \n",
    "514 563 370 499 640 501 625 612 471 598 509 531\n",
    "``\n",
    "\n",
    "We know that the population average for SAT scores is 500 with a standard deviation of 100.\n",
    "\n",
    "Are our 25 students’ SAT scores significantly higher than the population's mean score? \n",
    "\n",
    "*Note that the SAT preparation program claims that it will increase (and not decrease) the SAT score.  So, you can conduct a one-directional test. (alpha = .05).*"
   ]
  },
  {
   "cell_type": "code",
   "execution_count": 8,
   "metadata": {
    "ExecuteTime": {
     "end_time": "2021-02-12T17:01:52.668455Z",
     "start_time": "2021-02-12T17:01:52.664709Z"
    }
   },
   "outputs": [],
   "source": [
    "# State your hypotheses \n",
    "# Ha : there is an increase in grades after program\n",
    "# Ho : there is no increase in grade "
   ]
  },
  {
   "cell_type": "code",
   "execution_count": 10,
   "metadata": {
    "ExecuteTime": {
     "end_time": "2021-02-12T17:02:09.266120Z",
     "start_time": "2021-02-12T17:02:09.252248Z"
    }
   },
   "outputs": [
    {
     "data": {
      "text/plain": [
       "(0.03593031911292577, 1.8)"
      ]
     },
     "execution_count": 10,
     "metadata": {},
     "output_type": "execute_result"
    }
   ],
   "source": [
    "# Give your solution here \n",
    "import numpy as np\n",
    "x= np.array([434,694,457,534,720,400,484,478,610,641,425,636,454,\n",
    "514,563,370,499,640,501,625,612,471,598,509,531])\n",
    "x_bar = x.mean()\n",
    "n=len(x)\n",
    "mu = 500\n",
    "sigma=100\n",
    "z= (x_bar-mu)/(sigma/math.sqrt(n))\n",
    "p= 1 - stats.norm.cdf(z)\n",
    "\n",
    "p,z\n",
    "# p = 0.03593031911292577, z = 1.8"
   ]
  },
  {
   "cell_type": "code",
   "execution_count": 11,
   "metadata": {
    "ExecuteTime": {
     "end_time": "2021-02-12T17:02:54.726421Z",
     "start_time": "2021-02-12T17:02:54.718948Z"
    }
   },
   "outputs": [],
   "source": [
    "# Interpret the results in terms of the p-value\n",
    "\n",
    "# The p value is less than tha alpha so we can conclude that:\n",
    "# the training has a SIGNIFICANT effect on the SAT outcome at a significance level of 0.05"
   ]
  },
  {
   "cell_type": "markdown",
   "metadata": {},
   "source": [
    "## Summary\n",
    "\n",
    "In this lesson, you conducted a couple of simple tests comparing sample and population means, in an attempt to reject our null hypotheses. This provides you with a strong foundation to move ahead with more advanced tests and approaches later on."
   ]
  }
 ],
 "metadata": {
  "kernelspec": {
   "display_name": "Python 3",
   "language": "python",
   "name": "python3"
  },
  "language_info": {
   "codemirror_mode": {
    "name": "ipython",
    "version": 3
   },
   "file_extension": ".py",
   "mimetype": "text/x-python",
   "name": "python",
   "nbconvert_exporter": "python",
   "pygments_lexer": "ipython3",
   "version": "3.6.9"
  },
  "toc": {
   "base_numbering": 1,
   "nav_menu": {},
   "number_sections": true,
   "sideBar": true,
   "skip_h1_title": false,
   "title_cell": "Table of Contents",
   "title_sidebar": "Contents",
   "toc_cell": false,
   "toc_position": {},
   "toc_section_display": true,
   "toc_window_display": false
  },
  "varInspector": {
   "cols": {
    "lenName": 16,
    "lenType": 16,
    "lenVar": 40
   },
   "kernels_config": {
    "python": {
     "delete_cmd_postfix": "",
     "delete_cmd_prefix": "del ",
     "library": "var_list.py",
     "varRefreshCmd": "print(var_dic_list())"
    },
    "r": {
     "delete_cmd_postfix": ") ",
     "delete_cmd_prefix": "rm(",
     "library": "var_list.r",
     "varRefreshCmd": "cat(var_dic_list()) "
    }
   },
   "types_to_exclude": [
    "module",
    "function",
    "builtin_function_or_method",
    "instance",
    "_Feature"
   ],
   "window_display": false
  }
 },
 "nbformat": 4,
 "nbformat_minor": 2
}
